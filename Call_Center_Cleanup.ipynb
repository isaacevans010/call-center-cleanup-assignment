{
 "cells": [
  {
   "cell_type": "markdown",
   "id": "331a1c4f",
   "metadata": {},
   "source": [
    "# Call Center Cleanup\n",
    "\n",
    "For this assignment, we will be working with call center data. You can start working on the assignment after the first lesson on Exploratory Data Analysis with pandas. Make sure to read the whole assignment before starting anything! As you code along in the Jupyter notebook, you are asked to make note of the results of your analysis. Do so by clicking on the results box and adding your notes beside each question.\n",
    "\n",
    "## Business Issue and Understanding\n",
    "\n",
    "You are working for a company that has two call centers: the North Call Center and the South Call Center. The company is looking to possibly hire five additional reps to enhance customer experience. Your task is to explore how efficient the current reps are in each branch to determine which branch would benefit from additional assistance.\n",
    "\n",
    "### How the Call Center Works\n",
    "\n",
    "Call center representatives are assigned queues. When calls are assigned to a queue, the call is assigned to the next person in line in the queue. After a call is assigned to a representative, the amount of time between assignment and the call starting is divided into busy minutes and not ready minutes. If the call is incoming and a customer is waiting on the phone for a rep, the time is split into three categories: busy minutes, not ready minutes, and incoming call wait time. Once the rep has the customer on the phone, there might be during call wait time, where the call is put on hold while the rep gets an answer for the customer.\n",
    "\n",
    "### Notes about the Dataset\n",
    "\n",
    "If you haven't worked in a call center before, these notes might help you throughout your analysis.\n",
    "\n",
    "* The call purpose is tagged for each call.\n",
    "* The time of the call is tagged in 1 hour blocks starting at 9:00 AM and ending at 5:00 PM.\n",
    "* Calls are tagged as incoming or outgoing.\n",
    "* Reps are assigned to queues. When the reps are working, they take calls in the order of their queue.\n",
    "* A call that is dropped due to technical error or missed by the center because they have reached maximum capacity is a lost call.\n",
    "* An abandoned call is when the customer hangs up because they have been waiting for too long.\n",
    "* Busy Minutes: the amount of time after a call comes in or needs to go out where the assigned rep is not available because they are busy with other customers.\n",
    "* Not Ready Minutes: the amount of time after a call comes in or needs to go out where the assigned rep is not available because they are not ready (for example, getting water).\n",
    "* Incoming Wait Time - amount of time after assigned rep is available to take the call customer waits for representative to pick up a call. This is tracked in seconds.\n",
    "* During Call Wait Time - amount of time during call that customer has to wait for representative\n",
    "\n",
    "## Getting Started\n",
    "\n",
    "You have two CSVs at your disposal, `NorthCallCenter.csv` and `SouthCallCenter.csv`. Import the appropriate libraries and create two dataframes, one called `north_df` and one called `south_df`."
   ]
  },
  {
   "cell_type": "code",
   "execution_count": 3,
   "id": "f362436b",
   "metadata": {},
   "outputs": [],
   "source": [
    "# Import the appropriate libraries with aliases\n",
    "import pandas as pd\n",
    "import numpy as np\n",
    "\n",
    "# Create two new dataframes\n",
    "north_df = pd.read_csv(r\"C:\\Users\\fibdi\\Downloads\\data-analysis-projects\\call-center-cleanup-assignment\\NorthCallCenter.csv\")\n",
    "south_df = pd.read_csv(r\"C:\\Users\\fibdi\\Downloads\\data-analysis-projects\\call-center-cleanup-assignment\\SouthCallCenter.csv\")"
   ]
  },
  {
   "cell_type": "markdown",
   "id": "b4d3484b",
   "metadata": {},
   "source": [
    "## Task 1: Exploratory Data Analysis\n",
    "\n",
    "Time to do some EDA! In the process of learning more about the two datasets, answer the following questions. Use the code blocks below to begin cleaning your data. At the end of the section, record your answers."
   ]
  },
  {
   "cell_type": "markdown",
   "id": "76898991",
   "metadata": {},
   "source": [
    "#### EDA Question 1A:  How many reps are in the North branch?  "
   ]
  },
  {
   "cell_type": "code",
   "execution_count": 9,
   "id": "ce3eb5e4",
   "metadata": {},
   "outputs": [
    {
     "data": {
      "text/plain": [
       "9"
      ]
     },
     "execution_count": 9,
     "metadata": {},
     "output_type": "execute_result"
    }
   ],
   "source": [
    "# EDA Question 1A solution below:\n",
    "\n",
    "# print(north_df[\"Rep ID\"])\n",
    "north_df[\"Rep ID\"].nunique()\n",
    "\n",
    "# there are 9 reps at the north branch"
   ]
  },
  {
   "cell_type": "markdown",
   "id": "2a9b34d8",
   "metadata": {},
   "source": [
    "#### EDA Question 1B:  How many reps are in the South branch?  "
   ]
  },
  {
   "cell_type": "code",
   "execution_count": 10,
   "id": "3c715bbf",
   "metadata": {},
   "outputs": [
    {
     "data": {
      "text/plain": [
       "11"
      ]
     },
     "execution_count": 10,
     "metadata": {},
     "output_type": "execute_result"
    }
   ],
   "source": [
    "# EDA Question 1B solution Below:\n",
    "south_df[\"Rep ID\"].nunique()\n",
    "\n",
    "#there are 11 reps at the south branch"
   ]
  },
  {
   "cell_type": "markdown",
   "id": "a872f045",
   "metadata": {},
   "source": [
    "#### EDA Question 2A:  What is the average busy minutes, not ready minutes, incoming wait time, and during call wait time for the North branch? "
   ]
  },
  {
   "cell_type": "code",
   "execution_count": 22,
   "id": "3759305f",
   "metadata": {},
   "outputs": [
    {
     "name": "stdout",
     "output_type": "stream",
     "text": [
      "     Unnamed: 0 Branch     Call Purpose Time Block Incoming or Outgoing Queue  Rep ID  Sale  Lost Call  Abandoned  Busy Minutes  Not Ready Minutes  Incoming Wait Time  During Call Wait Time  Calls\n",
      "0             0  North        Complaint    9:00 AM             Incoming     B   Brent    NO          0          1             9                  2                 1.0                      4      1\n",
      "1             1  North    Sales Support   11:00 AM             Incoming     A     Cam    NO          0          0            11                  1                 1.0                      3      1\n",
      "2             2  North    Sales Support   11:00 AM             Incoming     B    Todd    NO          0          0             9                  3                 1.0                      3      1\n",
      "3             3  North    Sales Support    4:00 PM             Incoming     B   Brent    NO          0          0            11                  2                 1.0                      4      1\n",
      "4             4  North  Product Support   12:00 PM             Incoming     B   Brent    NO          0          0             8                  2                 1.0                      4      1\n",
      "5             5  North  Product Support    2:00 PM             Incoming     B    Duke    NO          0          0            12                  2                 1.0                      2      1\n",
      "6             6  North  Product Support    2:00 PM             Incoming     A     Joe    NO          0          0             8                  1                 1.0                      3      1\n",
      "7             7  North  Product Support    2:00 PM             Incoming     B   Lilly    NO          0          0            11                  2                 1.0                      3      1\n",
      "8             8  North  Product Support    3:00 PM             Incoming     B    Duke    NO          0          0            12                  2                 1.0                      4      1\n",
      "9             9  North  Product Support    3:00 PM             Incoming     A     Cam    NO          0          0            11                  3                 1.0                      4      1\n",
      "10           10  North  Product Support    4:00 PM             Incoming     A     Joe    NO          0          0            11                  3                 1.0                      4      1\n",
      "11           11  North  Product Support    4:00 PM             Incoming     A  Amanda    NO          0          0            10                  3                 1.0                      2      1\n",
      "12           12  North  Product Support    4:00 PM             Incoming     B    Todd    NO          0          0            12                  2                 1.0                      3      1\n",
      "13           13  North        Complaint    9:00 AM             Incoming     B    Duke    NO          0          0             9                  2                 1.0                      4      1\n",
      "14           14  North        Complaint   12:00 PM             Incoming     B   Brent    NO          0          0             8                  2                 1.0                      4      1\n",
      "15           15  North        Complaint    1:00 PM             Incoming     B    Duke    NO          0          0            12                  1                 1.0                      3      1\n",
      "16           16  North        Complaint    3:00 PM             Incoming     B   Brent    NO          0          0             9                  3                 1.0                      3      1\n",
      "17           17  North        Complaint    2:00 PM             Incoming     A    Andy    NO          0          1             9                  3                 2.0                      4      1\n",
      "18           18  North    Sales Support   10:00 AM             Incoming     B    Duke    NO          0          0            12                  2                 2.0                      2      1\n",
      "19           19  North    Sales Support   10:00 AM             Incoming     B   Lilly  YES           0          0            11                  2                 2.0                      4      1\n",
      "20           20  North    Sales Support   11:00 AM             Incoming     B   Lilly    NO          0          0            10                  2                 2.0                      4      1\n",
      "21           21  North    Sales Support   12:00 PM             Incoming     B    Duke    NO          0          0             9                  2                 2.0                      2      1\n",
      "22           22  North    Sales Support    1:00 PM             Incoming     A    Andy    NO          0          0             9                  2                 2.0                      2      1\n",
      "23           23  North    Sales Support    1:00 PM             Incoming     B   Brent    NO          0          0            10                  2                 2.0                      3      1\n",
      "24           24  North  Product Support   12:00 PM             Incoming     A  Amanda    NO          0          0            11                  1                 2.0                      3      1\n",
      "25           25  North  Product Support    1:00 PM             Incoming     A  Amanda    NO          0          0             8                  2                 2.0                      3      1\n",
      "26           26  North  Product Support    2:00 PM             Incoming     B   Lilly    NO          0          0            10                  1                 2.0                      4      1\n",
      "27           27  North  Product Support    3:00 PM             Incoming     B  Xander    NO          0          0            12                  1                 2.0                      4      1\n",
      "28           28  North  Product Support    3:00 PM             Incoming     A    Andy    NO          0          0            10                  1                 2.0                      2      1\n",
      "29           29  North  Product Support    3:00 PM             Incoming     A     Cam    NO          0          0             8                  1                 2.0                      2      1\n",
      "30           30  North  Product Support    4:00 PM             Incoming     B  Xander    NO          0          0             8                  1                 2.0                      2      1\n",
      "31           31  North  Product Support    4:00 PM             Incoming     A     Cam    NO          0          0             9                  3                 2.0                      3      1\n",
      "32           32  North        Complaint   12:00 PM             Incoming     A     Cam    NO          0          0            12                  1                 2.0                      4      1\n",
      "33           33  North    Sales Support   10:00 AM             Incoming     B   Lilly    NO          0          0             8                  2                 3.0                      2      1\n",
      "34           34  North    Sales Support   10:00 AM             Incoming     A  Amanda    NO          0          0             9                  2                 3.0                      3      1\n",
      "35           35  North    Sales Support   10:00 AM             Incoming     B    Duke    NO          0          0             8                  2                 3.0                      4      1\n",
      "36           36  North    Sales Support   11:00 AM             Incoming     A     Cam    NO          0          0             8                  2                 3.0                      2      1\n",
      "37           37  North    Sales Support   11:00 AM             Incoming     A     Joe    NO          0          0            12                  3                 3.0                      4      1\n",
      "38           38  North    Sales Support   12:00 PM             Incoming     B    Duke    NO          0          0             9                  2                 3.0                      4      1\n",
      "39           39  North    Sales Support   12:00 PM             Incoming     B   Lilly    NO          0          0             9                  3                 3.0                      4      1\n",
      "40           40  North    Sales Support   12:00 PM             Incoming     B   Lilly   YES          0          0            10                  1                 3.0                      2      1\n",
      "41           41  North  Product Support    3:00 PM             Incoming     B   Lilly    NO          0          0            10                  2                 3.0                      4      1\n",
      "42           42  North  Product Support    4:00 PM             Incoming     B    Duke    NO          0          0            10                  1                 3.0                      3      1\n",
      "43           43  North  Product Support    5:00 PM             Incoming     A    Andy    NO          0          0             8                  2                 3.0                      3      1\n",
      "44           44  North        Complaint    2:00 PM             Incoming     A     Cam    NO          0          0            10                  2                 3.0                      2      1\n",
      "45           45  North    Sales Support   10:00 AM             Incoming     B    Todd    NO          1          0             9                  3                 4.0                      4      1\n",
      "46           46  North    Sales Support   12:00 PM             Incoming     A    Andy    NO          0          1            12                  1                 4.0                      4      1\n",
      "47           47  North    Sales Support   10:00 AM             Incoming     A  Amanda   YES          0          0            10                  3                 4.0                      3      1\n",
      "48           48  North    Sales Support   11:00 AM             Incoming     A    Andy    NO          0          0            12                  3                 4.0                      2      1\n",
      "49           49  North    Sales Support   12:00 PM             Incoming     A     Joe    NO          0          0            10                  1                 4.0                      3      1\n",
      "50           50  North    Sales Support   12:00 PM             Incoming     A     Joe    NO          0          0            10                  1                 4.0                      3      1\n",
      "51           51  North    Sales Support    2:00 PM             Incoming     B    Duke    NO          0          0             8                  2                 4.0                      2      1\n",
      "52           52  North    Sales Support    2:00 PM             Incoming     B  Xander    NO          0          0            10                  1                 4.0                      3      1\n",
      "53           53  North    Sales Support    3:00 PM             Incoming     A    Andy    NO          0          0            12                  1                 4.0                      3      1\n",
      "54           54  North    Sales Support    4:00 PM             Incoming     B    Duke    NO          0          0             8                  2                 4.0                      3      1\n",
      "55           55  North  Product Support   10:00 AM             Incoming     A     Joe    NO          0          0             9                  2                 4.0                      2      1\n",
      "56           56  North  Product Support   11:00 AM             Incoming     A     Cam    NO          0          0             8                  1                 4.0                      4      1\n",
      "57           57  North  Product Support    2:00 PM             Incoming     B  Xander    NO          0          0            12                  1                 4.0                      2      1\n",
      "58           58  North  Product Support    3:00 PM             Incoming     B   Lilly    NO          0          0            12                  2                 4.0                      2      1\n",
      "59           59  North  Product Support    4:00 PM             Incoming     B  Xander    NO          0          0            11                  3                 4.0                      4      1\n",
      "60           60  North  Product Support    5:00 PM             Incoming     B    Duke    NO          0          0            10                  1                 4.0                      2      1\n",
      "61           61  North        Complaint    9:00 AM             Incoming     A     Joe    NO          0          0            10                  2                 4.0                      3      1\n",
      "62           62  North        Complaint   10:00 AM             Incoming     B   Lilly    NO          0          0            12                  2                 4.0                      4      1\n",
      "63           63  North        Complaint   12:00 PM             Incoming     B  Xander    NO          0          0            10                  3                 4.0                      2      1\n",
      "64           64  North        Complaint    5:00 PM             Incoming     A     Cam    NO          0          0             8                  3                 4.0                      2      1\n",
      "65           65  North    Sales Support   10:00 AM             Incoming     B   Brent    NO          0          0             8                  1                 5.0                      4      1\n",
      "66           66  North    Sales Support   10:00 AM             Incoming     A     Joe    NO          0          0            12                  2                 5.0                      2      1\n",
      "67           67  North    Sales Support   12:00 PM             Incoming     B    Todd   YES          0          0             9                  3                 5.0                      4      1\n",
      "68           68  North    Sales Support   12:00 PM             Incoming     B    Todd    NO          0          0            10                  3                 5.0                      3      1\n",
      "69           69  North    Sales Support   12:00 PM             Incoming     A    Andy   YES          0          0            10                  1                 5.0                      2      1\n",
      "70           70  North    Sales Support    3:00 PM             Incoming     B    Duke    NO          0          0            11                  3                 5.0                      2      1\n",
      "71           71  North  Product Support   12:00 PM             Incoming     B   Lilly    NO          0          0            11                  3                 5.0                      3      1\n",
      "72           72  North  Product Support   12:00 PM             Incoming     B   Brent    NO          0          0             9                  2                 5.0                      4      1\n",
      "73           73  North  Product Support    1:00 PM             Incoming     A     Joe    NO          0          0             9                  2                 5.0                      4      1\n",
      "74           74  North  Product Support    2:00 PM             Incoming     B    Todd    NO          0          0             9                  1                 5.0                      4      1\n",
      "75           75  North  Product Support    2:00 PM             Incoming     A    Andy    NO          0          0             9                  1                 5.0                      4      1\n",
      "76           76  North  Product Support    3:00 PM             Incoming     A    Andy    NO          0          0             9                  1                 5.0                      2      1\n",
      "77           77  North  Product Support    3:00 PM             Incoming     B    Duke    NO          0          0             8                  3                 5.0                      2      1\n",
      "78           78  North  Product Support    4:00 PM             Incoming     A     Cam    NO          0          0            11                  2                 5.0                      2      1\n",
      "79           79  North        Complaint   10:00 AM             Incoming     A     Joe    NO          0          0            10                  2                 5.0                      2      1\n",
      "80           80  North        Complaint   12:00 PM             Incoming     B   Lilly    NO          0          0            11                  2                 5.0                      2      1\n",
      "81           81  North        Complaint    5:00 PM             Incoming     A     Cam    NO          0          0             9                  2                 5.0                      2      1\n",
      "82           82  North    Sales Support   10:00 AM             Outgoing     A     Cam    NO          1          0             8                  1                 NaN                      2      1\n",
      "83           83  North    Sales Support   10:00 AM             Outgoing     B    Duke    NO          1          0            10                  2                 NaN                      4      1\n",
      "84           84  North    Sales Support   11:00 AM             Outgoing     B  Xander    NO          1          0            10                  1                 NaN                      4      1\n",
      "85           85  North  Product Support    9:00 AM             Outgoing     B    Duke    NO          1          0            12                  1                 NaN                      2      1\n",
      "86           86  North    Sales Support   10:00 AM             Outgoing     B   Lilly   YES          0          1             9                  3                 NaN                      4      1\n",
      "87           87  North    Sales Support   10:00 AM             Outgoing     B   Lilly   YES          0          1            12                  1                 NaN                      4      1\n",
      "88           88  North  Product Support    9:00 AM             Outgoing     A    Andy    NO          0          1            12                  2                 NaN                      2      1\n",
      "89           89  North  Product Support   11:00 AM             Outgoing     A  Amanda    NO          0          1            11                  2                 NaN                      2      1\n",
      "90           90  North    Sales Support   10:00 AM             Outgoing     B   Brent    NO          0          0            11                  3                 NaN                      4      1\n",
      "91           91  North    Sales Support   10:00 AM             Outgoing     B    Todd    NO          0          0            10                  2                 NaN                      2      1\n",
      "92           92  North    Sales Support   10:00 AM             Outgoing     A  Amanda    NO          0          0             8                  2                 NaN                      2      1\n",
      "93           93  North    Sales Support   10:00 AM             Outgoing     B    Todd    NO          0          0             8                  2                 NaN                      4      1\n",
      "94           94  North    Sales Support   10:00 AM             Outgoing     A  Amanda    NO          0          0            11                  2                 NaN                      2      1\n",
      "95           95  North    Sales Support   10:00 AM             Outgoing     A  Amanda    NO          0          0             9                  1                 NaN                      3      1\n",
      "96           96  North    Sales Support   10:00 AM             Outgoing     A     Joe    NO          0          0            10                  1                 NaN                      4      1\n",
      "97           97  North    Sales Support   10:00 AM             Outgoing     B    Todd    NO          0          0             9                  3                 NaN                      3      1\n",
      "98           98  North    Sales Support   10:00 AM             Outgoing     B   Brent    NO          0          0             9                  2                 NaN                      2      1\n",
      "99           99  North    Sales Support   10:00 AM             Outgoing     A    Andy   YES          0          0            12                  2                 NaN                      2      1\n",
      "100         100  North    Sales Support   10:00 AM             Outgoing     A  Amanda    NO          0          0            10                  2                 NaN                      2      1\n",
      "101         101  North    Sales Support   10:00 AM             Outgoing     B  Xander    NO          0          0            10                  1                 NaN                      4      1\n",
      "102         102  North    Sales Support   10:00 AM             Outgoing     B    Duke    NO          0          0            12                  3                 NaN                      4      1\n",
      "103         103  North    Sales Support   10:00 AM             Outgoing     B   Brent    NO          0          0            10                  3                 NaN                      4      1\n",
      "104         104  North    Sales Support   10:00 AM             Outgoing     B    Todd    NO          0          0            11                  3                 NaN                      3      1\n",
      "105         105  North    Sales Support   10:00 AM             Outgoing     A  Amanda    NO          0          0            11                  2                 NaN                      2      1\n",
      "106         106  North    Sales Support   10:00 AM             Outgoing     B   Brent    NO          0          0             9                  1                 NaN                      3      1\n",
      "107         107  North    Sales Support   11:00 AM             Outgoing     A  Amanda    NO          0          0            12                  1                 NaN                      2      1\n",
      "108         108  North    Sales Support   11:00 AM             Outgoing     B   Lilly   YES          0          0             8                  3                 NaN                      2      1\n",
      "109         109  North    Sales Support   11:00 AM             Outgoing     A     Cam    NO          0          0            12                  2                 NaN                      2      1\n",
      "110         110  North    Sales Support   11:00 AM             Outgoing     A    Andy    NO          0          0             8                  2                 NaN                      2      1\n",
      "111         111  North    Sales Support   11:00 AM             Outgoing     B   Brent    NO          0          0            10                  1                 NaN                      2      1\n",
      "112         112  North    Sales Support   11:00 AM             Outgoing     B   Brent    NO          0          0            11                  1                 NaN                      3      1\n",
      "113         113  North    Sales Support   12:00 PM             Outgoing     B   Brent    NO          0          0             9                  1                 NaN                      2      1\n",
      "114         114  North    Sales Support   12:00 PM             Outgoing     A     Joe    NO          0          0             9                  1                 NaN                      4      1\n",
      "115         115  North    Sales Support   12:00 PM             Outgoing     B  Xander    NO          0          0            11                  2                 NaN                      4      1\n",
      "116         116  North    Sales Support   12:00 PM             Outgoing     B   Brent    NO          0          0            11                  3                 NaN                      4      1\n",
      "117         117  North    Sales Support   12:00 PM             Outgoing     B   Lilly    NO          0          0            12                  1                 NaN                      3      1\n",
      "118         118  North    Sales Support   12:00 PM             Outgoing     A     Joe    NO          0          0             8                  3                 NaN                      4      1\n",
      "119         119  North    Sales Support   12:00 PM             Outgoing     B   Brent    NO          0          0            10                  1                 NaN                      2      1\n",
      "120         120  North    Sales Support    1:00 PM             Outgoing     A    Andy    NO          0          0            12                  3                 NaN                      2      1\n",
      "121         121  North    Sales Support    1:00 PM             Outgoing     B  Xander    NO          0          0            11                  2                 NaN                      2      1\n",
      "122         122  North    Sales Support    1:00 PM             Outgoing     A  Amanda    NO          0          0            10                  2                 NaN                      3      1\n",
      "123         123  North    Sales Support    1:00 PM             Outgoing     B    Todd    NO          0          0            12                  3                 NaN                      2      1\n",
      "124         124  North    Sales Support    1:00 PM             Outgoing     A     Joe    NO          0          0            12                  2                 NaN                      4      1\n",
      "125         125  North    Sales Support    1:00 PM             Outgoing     A     Joe    NO          0          0            12                  1                 NaN                      3      1\n",
      "126         126  North    Sales Support    2:00 PM             Outgoing     B    Duke    NO          0          0            11                  2                 NaN                      4      1\n",
      "127         127  North    Sales Support    2:00 PM             Outgoing     B    Duke    NO          0          0             9                  3                 NaN                      3      1\n",
      "128         128  North    Sales Support    2:00 PM             Outgoing     B   Brent    NO          0          0            11                  2                 NaN                      4      1\n",
      "129         129  North    Sales Support    2:00 PM             Outgoing     B    Todd    NO          0          0            12                  3                 NaN                      4      1\n",
      "130         130  North    Sales Support    3:00 PM             Outgoing     B  Xander    NO          0          0            11                  3                 NaN                      2      1\n",
      "131         131  North    Sales Support    4:00 PM             Outgoing     B   Brent    NO          0          0             8                  1                 NaN                      3      1\n",
      "132         132  North    Sales Support    4:00 PM             Outgoing     A  Amanda    NO          0          0             9                  2                 NaN                      2      1\n",
      "133         133  North    Sales Support    4:00 PM             Outgoing     B   Brent    NO          0          0            10                  3                 NaN                      4      1\n",
      "134         134  North    Sales Support    5:00 PM             Outgoing     B   Brent    NO          0          0             8                  1                 NaN                      3      1\n",
      "135         135  North    Sales Support    5:00 PM             Outgoing     B    Todd    NO          0          0            12                  2                 NaN                      4      1\n",
      "136         136  North    Sales Support    5:00 PM             Outgoing     A    Andy    NO          0          0            12                  2                 NaN                      3      1\n",
      "137         137  North  Product Support   10:00 AM             Outgoing     A  Amanda    NO          0          0             9                  1                 NaN                      3      1\n",
      "138         138  North  Product Support   10:00 AM             Outgoing     B  Xander    NO          0          0            12                  3                 NaN                      2      1\n",
      "139         139  North  Product Support   10:00 AM             Outgoing     B   Lilly    NO          0          0            12                  3                 NaN                      2      1\n",
      "140         140  North  Product Support   10:00 AM             Outgoing     B   Brent    NO          0          0            10                  2                 NaN                      2      1\n",
      "141         141  North  Product Support   10:00 AM             Outgoing     B  Xander    NO          0          0            10                  3                 NaN                      2      1\n",
      "142         142  North  Product Support   10:00 AM             Outgoing     B    Todd    NO          0          0            12                  1                 NaN                      4      1\n",
      "143         143  North  Product Support   10:00 AM             Outgoing     A     Joe    NO          0          0             8                  3                 NaN                      3      1\n",
      "144         144  North  Product Support   10:00 AM             Outgoing     B   Lilly    NO          0          0            11                  1                 NaN                      4      1\n",
      "145         145  North  Product Support   10:00 AM             Outgoing     A  Amanda    NO          0          0             8                  2                 NaN                      4      1\n",
      "146         146  North  Product Support   10:00 AM             Outgoing     B   Brent    NO          0          0            12                  3                 NaN                      4      1\n",
      "147         147  North  Product Support   11:00 AM             Outgoing     B   Lilly    NO          0          0            11                  1                 NaN                      2      1\n",
      "148         148  North  Product Support   11:00 AM             Outgoing     A  Amanda    NO          0          0            10                  2                 NaN                      2      1\n",
      "149         149  North  Product Support   11:00 AM             Outgoing     B    Duke    NO          0          0            12                  2                 NaN                      4      1\n",
      "150         150  North  Product Support   11:00 AM             Outgoing     A     Joe    NO          0          0             9                  2                 NaN                      3      1\n",
      "151         151  North  Product Support   11:00 AM             Outgoing     B    Todd    NO          0          0            12                  1                 NaN                      2      1\n",
      "152         152  North  Product Support   11:00 AM             Outgoing     B  Xander    NO          0          0             9                  3                 NaN                      2      1\n",
      "153         153  North  Product Support   11:00 AM             Outgoing     B   Lilly    NO          0          0             8                  1                 NaN                      3      1\n",
      "154         154  North  Product Support   11:00 AM             Outgoing     A     Cam    NO          0          0            11                  2                 NaN                      3      1\n",
      "155         155  North  Product Support   11:00 AM             Outgoing     B   Brent    NO          0          0            12                  2                 NaN                      3      1\n",
      "156         156  North  Product Support   11:00 AM             Outgoing     A     Joe    NO          0          0            10                  1                 NaN                      4      1\n",
      "157         157  North  Product Support   12:00 PM             Outgoing     B   Lilly    NO          0          0            11                  1                 NaN                      2      1\n",
      "158         158  North  Product Support   12:00 PM             Outgoing     B    Todd    NO          0          0             8                  2                 NaN                      4      1\n",
      "159         159  North  Product Support   12:00 PM             Outgoing     A     Cam    NO          0          0             8                  3                 NaN                      4      1\n",
      "160         160  North  Product Support   12:00 PM             Outgoing     A    Andy    NO          0          0            11                  1                 NaN                      4      1\n",
      "161         161  North  Product Support   12:00 PM             Outgoing     B    Duke    NO          0          0            12                  1                 NaN                      3      1\n",
      "162         162  North  Product Support   12:00 PM             Outgoing     B   Lilly    NO          0          0            12                  3                 NaN                      4      1\n",
      "163         163  North  Product Support   12:00 PM             Outgoing     A    Andy    NO          0          0             9                  2                 NaN                      3      1\n",
      "164         164  North  Product Support   12:00 PM             Outgoing     A     Cam    NO          0          0             8                  1                 NaN                      2      1\n",
      "165         165  North  Product Support   12:00 PM             Outgoing     B   Lilly    NO          0          0             9                  1                 NaN                      2      1\n",
      "166         166  North  Product Support   12:00 PM             Outgoing     B  Xander    NO          0          0             9                  2                 NaN                      2      1\n",
      "167         167  North  Product Support   12:00 PM             Outgoing     B   Brent    NO          0          0            12                  2                 NaN                      3      1\n",
      "168         168  North  Product Support   12:00 PM             Outgoing     B   Lilly    NO          0          0             8                  3                 NaN                      4      1\n",
      "169         169  North  Product Support   12:00 PM             Outgoing     A  Amanda    NO          0          0            10                  3                 NaN                      3      1\n",
      "170         170  North  Product Support   12:00 PM             Outgoing     B  Xander    NO          0          0             9                  2                 NaN                      3      1\n",
      "171         171  North  Product Support   12:00 PM             Outgoing     A    Andy    NO          0          0            10                  2                 NaN                      3      1\n",
      "172         172  North  Product Support   12:00 PM             Outgoing     A  Amanda    NO          0          0            11                  2                 NaN                      4      1\n",
      "173         173  North  Product Support   12:00 PM             Outgoing     B  Xander    NO          0          0            10                  1                 NaN                      2      1\n",
      "174         174  North  Product Support   12:00 PM             Outgoing     A     Cam    NO          0          0            12                  2                 NaN                      4      1\n",
      "175         175  North  Product Support   12:00 PM             Outgoing     A    Andy    NO          0          0             8                  3                 NaN                      4      1\n",
      "176         176  North  Product Support   12:00 PM             Outgoing     B    Duke    NO          0          0             9                  2                 NaN                      3      1\n",
      "177         177  North  Product Support    1:00 PM             Outgoing     A     Joe    NO          0          0            10                  2                 NaN                      2      1\n",
      "178         178  North  Product Support    1:00 PM             Outgoing     B   Lilly    NO          0          0            10                  2                 NaN                      2      1\n",
      "179         179  North  Product Support    1:00 PM             Outgoing     B    Todd    NO          0          0             8                  1                 NaN                      4      1\n",
      "180         180  North  Product Support    1:00 PM             Outgoing     A  Amanda    NO          0          0            12                  1                 NaN                      3      1\n",
      "181         181  North  Product Support    1:00 PM             Outgoing     B   Brent    NO          0          0            10                  2                 NaN                      2      1\n",
      "182         182  North  Product Support    1:00 PM             Outgoing     B    Todd    NO          0          0            11                  2                 NaN                      2      1\n",
      "183         183  North  Product Support    2:00 PM             Outgoing     A     Cam    NO          0          0            10                  3                 NaN                      3      1\n",
      "184         184  North  Product Support    2:00 PM             Outgoing     A     Cam    NO          0          0             8                  2                 NaN                      3      1\n",
      "185         185  North  Product Support    2:00 PM             Outgoing     A    Andy    NO          0          0             8                  1                 NaN                      4      1\n",
      "186         186  North  Product Support    2:00 PM             Outgoing     B    Todd    NO          0          0             9                  1                 NaN                      4      1\n",
      "187         187  North  Product Support    2:00 PM             Outgoing     A  Amanda    NO          0          0            10                  2                 NaN                      3      1\n",
      "188         188  North  Product Support    2:00 PM             Outgoing     A    Andy    NO          0          0             8                  3                 NaN                      3      1\n",
      "189         189  North  Product Support    2:00 PM             Outgoing     B    Duke    NO          0          0            10                  3                 NaN                      4      1\n",
      "190         190  North  Product Support    2:00 PM             Outgoing     B   Brent    NO          0          0            10                  1                 NaN                      3      1\n",
      "191         191  North  Product Support    2:00 PM             Outgoing     A    Andy    NO          0          0            10                  3                 NaN                      2      1\n",
      "192         192  North  Product Support    2:00 PM             Outgoing     B   Brent    NO          0          0            10                  2                 NaN                      4      1\n",
      "193         193  North  Product Support    2:00 PM             Outgoing     A     Cam    NO          0          0            12                  2                 NaN                      2      1\n",
      "194         194  North  Product Support    2:00 PM             Outgoing     B    Todd    NO          0          0            12                  3                 NaN                      4      1\n",
      "195         195  North  Product Support    2:00 PM             Outgoing     B    Duke    NO          0          0             8                  1                 NaN                      2      1\n",
      "196         196  North  Product Support    2:00 PM             Outgoing     B   Brent    NO          0          0            10                  2                 NaN                      3      1\n",
      "197         197  North  Product Support    2:00 PM             Outgoing     B    Duke    NO          0          0            12                  1                 NaN                      3      1\n",
      "198         198  North  Product Support    2:00 PM             Outgoing     B   Lilly    NO          0          0            11                  1                 NaN                      2      1\n",
      "199         199  North  Product Support    2:00 PM             Outgoing     B   Brent    NO          0          0             9                  3                 NaN                      2      1\n",
      "200         200  North  Product Support    2:00 PM             Outgoing     A     Joe    NO          0          0             8                  1                 NaN                      2      1\n",
      "201         201  North  Product Support    2:00 PM             Outgoing     A     Joe    NO          0          0            10                  3                 NaN                      3      1\n",
      "202         202  North  Product Support    2:00 PM             Outgoing     A     Joe    NO          0          0            10                  1                 NaN                      3      1\n",
      "203         203  North  Product Support    3:00 PM             Outgoing     B   Lilly    NO          0          0             9                  3                 NaN                      2      1\n",
      "204         204  North  Product Support    3:00 PM             Outgoing     A     Joe    NO          0          0             9                  1                 NaN                      4      1\n",
      "205         205  North  Product Support    3:00 PM             Outgoing     B  Xander    NO          0          0             9                  1                 NaN                      3      1\n",
      "206         206  North  Product Support    3:00 PM             Outgoing     B  Xander    NO          0          0            11                  1                 NaN                      2      1\n",
      "207         207  North  Product Support    3:00 PM             Outgoing     B    Todd    NO          0          0            10                  1                 NaN                      4      1\n",
      "208         208  North  Product Support    3:00 PM             Outgoing     A     Cam    NO          0          0             8                  3                 NaN                      2      1\n",
      "209         209  North  Product Support    3:00 PM             Outgoing     A  Amanda    NO          0          0             8                  2                 NaN                      2      1\n",
      "210         210  North  Product Support    3:00 PM             Outgoing     B   Brent    NO          0          0            10                  2                 NaN                      2      1\n",
      "211         211  North  Product Support    3:00 PM             Outgoing     B    Duke    NO          0          0            10                  1                 NaN                      2      1\n",
      "212         212  North  Product Support    3:00 PM             Outgoing     A     Cam    NO          0          0            12                  1                 NaN                      4      1\n",
      "213         213  North  Product Support    3:00 PM             Outgoing     B   Brent    NO          0          0             9                  2                 NaN                      3      1\n",
      "214         214  North  Product Support    3:00 PM             Outgoing     B   Lilly    NO          0          0            12                  1                 NaN                      4      1\n",
      "215         215  North  Product Support    3:00 PM             Outgoing     B    Todd    NO          0          0            11                  1                 NaN                      4      1\n",
      "216         216  North  Product Support    3:00 PM             Outgoing     B   Brent    NO          0          0             9                  1                 NaN                      3      1\n",
      "217         217  North  Product Support    3:00 PM             Outgoing     B    Todd    NO          0          0            11                  3                 NaN                      4      1\n",
      "218         218  North  Product Support    3:00 PM             Outgoing     B    Duke    NO          0          0             8                  2                 NaN                      2      1\n",
      "219         219  North  Product Support    3:00 PM             Outgoing     A     Joe    NO          0          0            11                  2                 NaN                      4      1\n",
      "220         220  North  Product Support    4:00 PM             Outgoing     A     Cam   YES          0          0             8                  1                 NaN                      3      1\n",
      "221         221  North  Product Support    4:00 PM             Outgoing     B   Lilly    NO          0          0             8                  3                 NaN                      2      1\n",
      "222         222  North  Product Support    4:00 PM             Outgoing     A     Joe    NO          0          0            11                  3                 NaN                      2      1\n",
      "223         223  North  Product Support    4:00 PM             Outgoing     B  Xander    NO          0          0            11                  3                 NaN                      4      1\n",
      "224         224  North  Product Support    4:00 PM             Outgoing     B  Xander    NO          0          0            12                  1                 NaN                      2      1\n",
      "225         225  North  Product Support    4:00 PM             Outgoing     B    Todd    NO          0          0             8                  1                 NaN                      4      1\n",
      "226         226  North  Product Support    4:00 PM             Outgoing     B  Xander    NO          0          0             9                  2                 NaN                      3      1\n",
      "227         227  North  Product Support    4:00 PM             Outgoing     B   Brent   YES          0          0            10                  2                 NaN                      4      1\n",
      "228         228  North  Product Support    4:00 PM             Outgoing     B    Todd    NO          0          0             9                  1                 NaN                      3      1\n",
      "229         229  North  Product Support    4:00 PM             Outgoing     B    Todd    NO          0          0            10                  2                 NaN                      3      1\n",
      "230         230  North  Product Support    4:00 PM             Outgoing     B    Todd    NO          0          0            12                  2                 NaN                      3      1\n",
      "231         231  North  Product Support    4:00 PM             Outgoing     A    Andy    NO          0          0             8                  1                 NaN                      3      1\n",
      "232         232  North  Product Support    4:00 PM             Outgoing     B   Lilly    NO          0          0             9                  3                 NaN                      2      1\n",
      "233         233  North  Product Support    4:00 PM             Outgoing     B  Xander    NO          0          0             9                  2                 NaN                      4      1\n",
      "234         234  North  Product Support    4:00 PM             Outgoing     B    Todd    NO          0          0            11                  2                 NaN                      3      1\n",
      "235         235  North  Product Support    5:00 PM             Outgoing     B    Todd    NO          0          0            10                  1                 NaN                      2      1\n",
      "236         236  North  Product Support    5:00 PM             Outgoing     B    Duke    NO          0          0             8                  3                 NaN                      4      1\n",
      "237         237  North  Product Support    5:00 PM             Outgoing     B    Duke    NO          0          0            11                  2                 NaN                      2      1\n",
      "238         238  North  Product Support    5:00 PM             Outgoing     B   Brent    NO          0          0            10                  1                 NaN                      3      1\n",
      "239         239  North  Product Support    5:00 PM             Outgoing     B   Brent    NO          0          0            10                  3                 NaN                      3      1\n",
      "240         240  North  Product Support    5:00 PM             Outgoing     B   Brent    NO          0          0            10                  2                 NaN                      3      1\n",
      "241         241  North  Product Support    5:00 PM             Outgoing     A     Joe    NO          0          0             8                  3                 NaN                      2      1\n",
      "242         242  North  Product Support    5:00 PM             Outgoing     A  Amanda    NO          0          0            12                  1                 NaN                      2      1\n",
      "243         243  North  Product Support    5:00 PM             Outgoing     A     Cam    NO          0          0            11                  2                 NaN                      2      1\n",
      "244         244  North  Product Support    5:00 PM             Outgoing     B  Xander    NO          0          0             8                  1                 NaN                      4      1\n"
     ]
    },
    {
     "data": {
      "text/plain": [
       "Busy Minutes             9.987755\n",
       "Not Ready Minutes        1.914286\n",
       "Incoming Wait Time       3.048780\n",
       "During Call Wait Time    2.967347\n",
       "dtype: float64"
      ]
     },
     "execution_count": 22,
     "metadata": {},
     "output_type": "execute_result"
    }
   ],
   "source": [
    "# EDA Question 2A solution Below:\n",
    "print(north_df.to_string())\n",
    "\n",
    "north_df[[\"Busy Minutes\", \"Not Ready Minutes\",\"Incoming Wait Time\",\"During Call Wait Time\"]].agg('mean')"
   ]
  },
  {
   "cell_type": "markdown",
   "id": "3851cf3e",
   "metadata": {},
   "source": [
    "#### EDA Question 2B:  What is the average busy minutes, not ready minutes, incoming wait time, and during call wait time for the South branch? "
   ]
  },
  {
   "cell_type": "code",
   "execution_count": 23,
   "id": "a77ec152",
   "metadata": {},
   "outputs": [
    {
     "data": {
      "text/plain": [
       "Busy Minutes             10.054140\n",
       "Not Ready Minutes         1.910828\n",
       "Incoming Wait Time        3.000000\n",
       "During Call Wait Time     3.076433\n",
       "dtype: float64"
      ]
     },
     "execution_count": 23,
     "metadata": {},
     "output_type": "execute_result"
    }
   ],
   "source": [
    "# EDA Question 2B solution Below:\n",
    "south_df[[\"Busy Minutes\", \"Not Ready Minutes\",\"Incoming Wait Time\",\"During Call Wait Time\"]].agg('mean')"
   ]
  },
  {
   "cell_type": "markdown",
   "id": "75915553",
   "metadata": {},
   "source": [
    "#### EDA Question 3:  What is the number of calls taken for each time block(Both North and South combined)?"
   ]
  },
  {
   "cell_type": "code",
   "execution_count": 40,
   "id": "49566936",
   "metadata": {},
   "outputs": [
    {
     "data": {
      "text/html": [
       "<div>\n",
       "<style scoped>\n",
       "    .dataframe tbody tr th:only-of-type {\n",
       "        vertical-align: middle;\n",
       "    }\n",
       "\n",
       "    .dataframe tbody tr th {\n",
       "        vertical-align: top;\n",
       "    }\n",
       "\n",
       "    .dataframe thead th {\n",
       "        text-align: right;\n",
       "    }\n",
       "</style>\n",
       "<table border=\"1\" class=\"dataframe\">\n",
       "  <thead>\n",
       "    <tr style=\"text-align: right;\">\n",
       "      <th></th>\n",
       "      <th>Calls</th>\n",
       "    </tr>\n",
       "    <tr>\n",
       "      <th>Time Block</th>\n",
       "      <th></th>\n",
       "    </tr>\n",
       "  </thead>\n",
       "  <tbody>\n",
       "    <tr>\n",
       "      <th>10:00 AM</th>\n",
       "      <td>99</td>\n",
       "    </tr>\n",
       "    <tr>\n",
       "      <th>11:00 AM</th>\n",
       "      <td>56</td>\n",
       "    </tr>\n",
       "    <tr>\n",
       "      <th>12:00 PM</th>\n",
       "      <td>120</td>\n",
       "    </tr>\n",
       "    <tr>\n",
       "      <th>1:00 PM</th>\n",
       "      <td>40</td>\n",
       "    </tr>\n",
       "    <tr>\n",
       "      <th>2:00 PM</th>\n",
       "      <td>65</td>\n",
       "    </tr>\n",
       "    <tr>\n",
       "      <th>3:00 PM</th>\n",
       "      <td>73</td>\n",
       "    </tr>\n",
       "    <tr>\n",
       "      <th>4:00 PM</th>\n",
       "      <td>53</td>\n",
       "    </tr>\n",
       "    <tr>\n",
       "      <th>5:00 PM</th>\n",
       "      <td>43</td>\n",
       "    </tr>\n",
       "    <tr>\n",
       "      <th>9:00 AM</th>\n",
       "      <td>10</td>\n",
       "    </tr>\n",
       "  </tbody>\n",
       "</table>\n",
       "</div>"
      ],
      "text/plain": [
       "            Calls\n",
       "Time Block       \n",
       "10:00 AM       99\n",
       "11:00 AM       56\n",
       "12:00 PM      120\n",
       "1:00 PM        40\n",
       "2:00 PM        65\n",
       "3:00 PM        73\n",
       "4:00 PM        53\n",
       "5:00 PM        43\n",
       "9:00 AM        10"
      ]
     },
     "execution_count": 40,
     "metadata": {},
     "output_type": "execute_result"
    }
   ],
   "source": [
    "# EDA Question 3 solution Below:\n",
    "dataframes = [south_df, north_df]\n",
    "full_data = pd.concat(dataframes)\n",
    "full_data[['Calls']].groupby(full_data['Time Block']).agg('sum')"
   ]
  },
  {
   "cell_type": "markdown",
   "id": "40b1fd3f",
   "metadata": {},
   "source": [
    "##### Record your answers for the EDA section below:\n",
    "- 1a) Reps in the North Branch = 9\n",
    "- 1b) Reps in the South Branch = 11\n",
    "\n",
    "\n",
    "- 2a) North Branch, (round to the nearest hundredth):\n",
    "> - Busy Minutes = 9.99\n",
    "> - Not Ready Minutes = 1.91\n",
    "> - Incoming Wait Time = 3.05\n",
    "> - During Call Wait Time = 2.97\n",
    "- 2b) South Branch, (round to the nearest hundredth):\n",
    "> - Busy Minutes = 10.05\n",
    "> - Not Ready Minutes = 1.91 \n",
    "> - Incoming Wait Time = 3.00\n",
    "> - During Call Wait Time = 3.08\n",
    "- 3) Total Calls taken for all branches per time block:\n",
    "> - 9:00AM   = 10\n",
    "> - 10:00AM  = 99\n",
    "> - 11:00AM  = 56\n",
    "> - 12:00PM  = 120\n",
    "> - 1:00PM   = 40\n",
    "> - 2:00PM   = 65\n",
    "> - 3:00PM   = 73\n",
    "> - 4:00PM   = 53\n",
    "> - 5:00PM   = 43\n",
    "\n"
   ]
  },
  {
   "cell_type": "markdown",
   "id": "366bfb19",
   "metadata": {},
   "source": [
    "## Task 2: Cleaning Your Data \n",
    "Now you need to clean up the datasets. When cleaning the datasets, you may find that there isn't dirty data to clean. That is okay! Some questions you need to answer about the data sets.\n",
    "* Add additional code blocks as needed to show how you came to your conclusions. Add comments in your code blocks to help others understand your thinking. "
   ]
  },
  {
   "cell_type": "markdown",
   "id": "c3564d69",
   "metadata": {},
   "source": [
    "#### Cleaning Question 1:  Is there any missing data and if yes explain what you would do with the missing data and why?"
   ]
  },
  {
   "cell_type": "code",
   "execution_count": 41,
   "id": "b77fb574",
   "metadata": {},
   "outputs": [
    {
     "data": {
      "text/html": [
       "<div>\n",
       "<style scoped>\n",
       "    .dataframe tbody tr th:only-of-type {\n",
       "        vertical-align: middle;\n",
       "    }\n",
       "\n",
       "    .dataframe tbody tr th {\n",
       "        vertical-align: top;\n",
       "    }\n",
       "\n",
       "    .dataframe thead th {\n",
       "        text-align: right;\n",
       "    }\n",
       "</style>\n",
       "<table border=\"1\" class=\"dataframe\">\n",
       "  <thead>\n",
       "    <tr style=\"text-align: right;\">\n",
       "      <th></th>\n",
       "      <th>Unnamed: 0</th>\n",
       "      <th>Branch</th>\n",
       "      <th>Call Purpose</th>\n",
       "      <th>Time Block</th>\n",
       "      <th>Incoming or Outgoing</th>\n",
       "      <th>Queue</th>\n",
       "      <th>Rep ID</th>\n",
       "      <th>Sale</th>\n",
       "      <th>Lost Call</th>\n",
       "      <th>Abandoned</th>\n",
       "      <th>Busy Minutes</th>\n",
       "      <th>Not Ready Minutes</th>\n",
       "      <th>Incoming Wait Time</th>\n",
       "      <th>During Call Wait Time</th>\n",
       "      <th>Calls</th>\n",
       "    </tr>\n",
       "  </thead>\n",
       "  <tbody>\n",
       "    <tr>\n",
       "      <th>0</th>\n",
       "      <td>False</td>\n",
       "      <td>False</td>\n",
       "      <td>False</td>\n",
       "      <td>False</td>\n",
       "      <td>False</td>\n",
       "      <td>False</td>\n",
       "      <td>False</td>\n",
       "      <td>False</td>\n",
       "      <td>False</td>\n",
       "      <td>False</td>\n",
       "      <td>False</td>\n",
       "      <td>False</td>\n",
       "      <td>False</td>\n",
       "      <td>False</td>\n",
       "      <td>False</td>\n",
       "    </tr>\n",
       "    <tr>\n",
       "      <th>1</th>\n",
       "      <td>False</td>\n",
       "      <td>False</td>\n",
       "      <td>False</td>\n",
       "      <td>False</td>\n",
       "      <td>False</td>\n",
       "      <td>False</td>\n",
       "      <td>False</td>\n",
       "      <td>False</td>\n",
       "      <td>False</td>\n",
       "      <td>False</td>\n",
       "      <td>False</td>\n",
       "      <td>False</td>\n",
       "      <td>False</td>\n",
       "      <td>False</td>\n",
       "      <td>False</td>\n",
       "    </tr>\n",
       "    <tr>\n",
       "      <th>2</th>\n",
       "      <td>False</td>\n",
       "      <td>False</td>\n",
       "      <td>False</td>\n",
       "      <td>False</td>\n",
       "      <td>False</td>\n",
       "      <td>False</td>\n",
       "      <td>False</td>\n",
       "      <td>False</td>\n",
       "      <td>False</td>\n",
       "      <td>False</td>\n",
       "      <td>False</td>\n",
       "      <td>False</td>\n",
       "      <td>False</td>\n",
       "      <td>False</td>\n",
       "      <td>False</td>\n",
       "    </tr>\n",
       "    <tr>\n",
       "      <th>3</th>\n",
       "      <td>False</td>\n",
       "      <td>False</td>\n",
       "      <td>False</td>\n",
       "      <td>False</td>\n",
       "      <td>False</td>\n",
       "      <td>False</td>\n",
       "      <td>False</td>\n",
       "      <td>False</td>\n",
       "      <td>False</td>\n",
       "      <td>False</td>\n",
       "      <td>False</td>\n",
       "      <td>False</td>\n",
       "      <td>False</td>\n",
       "      <td>False</td>\n",
       "      <td>False</td>\n",
       "    </tr>\n",
       "    <tr>\n",
       "      <th>4</th>\n",
       "      <td>False</td>\n",
       "      <td>False</td>\n",
       "      <td>False</td>\n",
       "      <td>False</td>\n",
       "      <td>False</td>\n",
       "      <td>False</td>\n",
       "      <td>False</td>\n",
       "      <td>False</td>\n",
       "      <td>False</td>\n",
       "      <td>False</td>\n",
       "      <td>False</td>\n",
       "      <td>False</td>\n",
       "      <td>False</td>\n",
       "      <td>False</td>\n",
       "      <td>False</td>\n",
       "    </tr>\n",
       "    <tr>\n",
       "      <th>...</th>\n",
       "      <td>...</td>\n",
       "      <td>...</td>\n",
       "      <td>...</td>\n",
       "      <td>...</td>\n",
       "      <td>...</td>\n",
       "      <td>...</td>\n",
       "      <td>...</td>\n",
       "      <td>...</td>\n",
       "      <td>...</td>\n",
       "      <td>...</td>\n",
       "      <td>...</td>\n",
       "      <td>...</td>\n",
       "      <td>...</td>\n",
       "      <td>...</td>\n",
       "      <td>...</td>\n",
       "    </tr>\n",
       "    <tr>\n",
       "      <th>240</th>\n",
       "      <td>False</td>\n",
       "      <td>False</td>\n",
       "      <td>False</td>\n",
       "      <td>False</td>\n",
       "      <td>False</td>\n",
       "      <td>False</td>\n",
       "      <td>False</td>\n",
       "      <td>False</td>\n",
       "      <td>False</td>\n",
       "      <td>False</td>\n",
       "      <td>False</td>\n",
       "      <td>False</td>\n",
       "      <td>True</td>\n",
       "      <td>False</td>\n",
       "      <td>False</td>\n",
       "    </tr>\n",
       "    <tr>\n",
       "      <th>241</th>\n",
       "      <td>False</td>\n",
       "      <td>False</td>\n",
       "      <td>False</td>\n",
       "      <td>False</td>\n",
       "      <td>False</td>\n",
       "      <td>False</td>\n",
       "      <td>False</td>\n",
       "      <td>False</td>\n",
       "      <td>False</td>\n",
       "      <td>False</td>\n",
       "      <td>False</td>\n",
       "      <td>False</td>\n",
       "      <td>True</td>\n",
       "      <td>False</td>\n",
       "      <td>False</td>\n",
       "    </tr>\n",
       "    <tr>\n",
       "      <th>242</th>\n",
       "      <td>False</td>\n",
       "      <td>False</td>\n",
       "      <td>False</td>\n",
       "      <td>False</td>\n",
       "      <td>False</td>\n",
       "      <td>False</td>\n",
       "      <td>False</td>\n",
       "      <td>False</td>\n",
       "      <td>False</td>\n",
       "      <td>False</td>\n",
       "      <td>False</td>\n",
       "      <td>False</td>\n",
       "      <td>True</td>\n",
       "      <td>False</td>\n",
       "      <td>False</td>\n",
       "    </tr>\n",
       "    <tr>\n",
       "      <th>243</th>\n",
       "      <td>False</td>\n",
       "      <td>False</td>\n",
       "      <td>False</td>\n",
       "      <td>False</td>\n",
       "      <td>False</td>\n",
       "      <td>False</td>\n",
       "      <td>False</td>\n",
       "      <td>False</td>\n",
       "      <td>False</td>\n",
       "      <td>False</td>\n",
       "      <td>False</td>\n",
       "      <td>False</td>\n",
       "      <td>True</td>\n",
       "      <td>False</td>\n",
       "      <td>False</td>\n",
       "    </tr>\n",
       "    <tr>\n",
       "      <th>244</th>\n",
       "      <td>False</td>\n",
       "      <td>False</td>\n",
       "      <td>False</td>\n",
       "      <td>False</td>\n",
       "      <td>False</td>\n",
       "      <td>False</td>\n",
       "      <td>False</td>\n",
       "      <td>False</td>\n",
       "      <td>False</td>\n",
       "      <td>False</td>\n",
       "      <td>False</td>\n",
       "      <td>False</td>\n",
       "      <td>True</td>\n",
       "      <td>False</td>\n",
       "      <td>False</td>\n",
       "    </tr>\n",
       "  </tbody>\n",
       "</table>\n",
       "<p>559 rows × 15 columns</p>\n",
       "</div>"
      ],
      "text/plain": [
       "     Unnamed: 0  Branch  Call Purpose  Time Block  Incoming or Outgoing  \\\n",
       "0         False   False         False       False                 False   \n",
       "1         False   False         False       False                 False   \n",
       "2         False   False         False       False                 False   \n",
       "3         False   False         False       False                 False   \n",
       "4         False   False         False       False                 False   \n",
       "..          ...     ...           ...         ...                   ...   \n",
       "240       False   False         False       False                 False   \n",
       "241       False   False         False       False                 False   \n",
       "242       False   False         False       False                 False   \n",
       "243       False   False         False       False                 False   \n",
       "244       False   False         False       False                 False   \n",
       "\n",
       "     Queue  Rep ID   Sale  Lost Call  Abandoned  Busy Minutes  \\\n",
       "0    False   False  False      False      False         False   \n",
       "1    False   False  False      False      False         False   \n",
       "2    False   False  False      False      False         False   \n",
       "3    False   False  False      False      False         False   \n",
       "4    False   False  False      False      False         False   \n",
       "..     ...     ...    ...        ...        ...           ...   \n",
       "240  False   False  False      False      False         False   \n",
       "241  False   False  False      False      False         False   \n",
       "242  False   False  False      False      False         False   \n",
       "243  False   False  False      False      False         False   \n",
       "244  False   False  False      False      False         False   \n",
       "\n",
       "     Not Ready Minutes  Incoming Wait Time  During Call Wait Time  Calls  \n",
       "0                False               False                  False  False  \n",
       "1                False               False                  False  False  \n",
       "2                False               False                  False  False  \n",
       "3                False               False                  False  False  \n",
       "4                False               False                  False  False  \n",
       "..                 ...                 ...                    ...    ...  \n",
       "240              False                True                  False  False  \n",
       "241              False                True                  False  False  \n",
       "242              False                True                  False  False  \n",
       "243              False                True                  False  False  \n",
       "244              False                True                  False  False  \n",
       "\n",
       "[559 rows x 15 columns]"
      ]
     },
     "execution_count": 41,
     "metadata": {},
     "output_type": "execute_result"
    }
   ],
   "source": [
    "# Question 1 solution below\n",
    "full_data.isna()\n"
   ]
  },
  {
   "cell_type": "markdown",
   "id": "0dc5c568-40db-4889-b82b-64610d8058d2",
   "metadata": {},
   "source": [
    "#### Record your answer below:\n",
    "\n",
    "> Your Answer: Yes, it appears there is missing data which is populated as boolean values where there should be either numeric or more specific string data. To deal with these I would remove the rows, because there aren't any cues in other rows that would make an interpolation method viable."
   ]
  },
  {
   "cell_type": "markdown",
   "id": "dc47f020",
   "metadata": {},
   "source": [
    "#### Cleaning Question 2:  In the North data set, there are two separate \"YES\" values for a sale. Why and how did you rectify the issue?"
   ]
  },
  {
   "cell_type": "code",
   "execution_count": 8,
   "id": "4e0fbad6",
   "metadata": {},
   "outputs": [],
   "source": [
    "# Cleaning Question 2 solution below:"
   ]
  },
  {
   "cell_type": "markdown",
   "id": "cf81b612-eb6b-45a6-ac8e-d6f4e08131a8",
   "metadata": {},
   "source": [
    "##### Record your answer by below:\n",
    "> Your Answer: "
   ]
  },
  {
   "cell_type": "markdown",
   "id": "715f375a",
   "metadata": {},
   "source": [
    "#### Cleaning Question 3:  Are there duplicates in the two data sets? If there are, how did you handle them?"
   ]
  },
  {
   "cell_type": "code",
   "execution_count": 9,
   "id": "2323673a",
   "metadata": {},
   "outputs": [],
   "source": [
    "# Cleaning Question 3 solution below:"
   ]
  },
  {
   "cell_type": "markdown",
   "id": "4fbfe2e8-490a-48dc-b0ca-599879076c62",
   "metadata": {},
   "source": [
    "##### Record your answer below:\n",
    "> Your Answer: "
   ]
  },
  {
   "cell_type": "markdown",
   "id": "8ffaa865",
   "metadata": {},
   "source": [
    "#### Cleaning Question 4:  Is any of the data in the two data sets unnecessary? If yes, how did you handle it?"
   ]
  },
  {
   "cell_type": "code",
   "execution_count": 17,
   "id": "78b45e70",
   "metadata": {},
   "outputs": [],
   "source": [
    "# Cleaning Question 4 solution below:"
   ]
  },
  {
   "cell_type": "markdown",
   "id": "689e76b9-64d2-45d7-883a-b8c4d822e0c8",
   "metadata": {},
   "source": [
    "##### Record your answer below:\n",
    "> Your Answer: "
   ]
  },
  {
   "cell_type": "markdown",
   "id": "73342a9a",
   "metadata": {},
   "source": [
    "## Task 3: Data Manipulation\n",
    "Before you begin answering any questions, combine the two datasets together to create a third dataframe called df. You can use this third dataframe to compare the two call centers to company-wide trends.\n",
    "* Add additional code blocks as needed to show how you came to your conclusions. Add comments in your code blocks to help others understand your thinking. Record your answer below."
   ]
  },
  {
   "cell_type": "code",
   "execution_count": 5,
   "id": "e9705c34",
   "metadata": {},
   "outputs": [],
   "source": [
    "# Create dataframe for the entire company named df\n",
    "\n"
   ]
  },
  {
   "cell_type": "markdown",
   "id": "7e87dfd1",
   "metadata": {},
   "source": [
    "#### Manipulation Question 1:  Group by Rep ID and sum the resulting structure. Sort by calls to determine which rep in each branch has the highest number of calls."
   ]
  },
  {
   "cell_type": "code",
   "execution_count": 12,
   "id": "3953f09a",
   "metadata": {},
   "outputs": [],
   "source": [
    "# Manipulation Question solution below:"
   ]
  },
  {
   "cell_type": "markdown",
   "id": "7c29838c-1402-4e4b-94c9-050515d8dd18",
   "metadata": {},
   "source": [
    "##### Record your answer below\n",
    "Rep with the hightest number of calls and their total calls:\n",
    "- North Branch = \n",
    "- South Branch = "
   ]
  },
  {
   "cell_type": "markdown",
   "id": "809293b9",
   "metadata": {},
   "source": [
    "#### Manipulation Question 2:  The average call abandonment rate is a KPI when it comes to determining call center efficiency. As you may recall, abandoned calls are calls where the customer hangs up due to long call times. What is the average call abandonment rate for each branch and the whole company? Do any of these fall out of the optimal range of 2-5%?"
   ]
  },
  {
   "cell_type": "code",
   "execution_count": 13,
   "id": "3dff7534",
   "metadata": {},
   "outputs": [],
   "source": [
    "# Manipulation Question 2 solution below:"
   ]
  },
  {
   "cell_type": "markdown",
   "id": "c284596f-218f-4291-81b6-718ea5671feb",
   "metadata": {},
   "source": [
    "##### Record your answer below:\n",
    "Average Call Abandonment Rates (round to the nearest hundredth):\n",
    "- North Branch = \n",
    "- South Branch = \n",
    "- Company Wide =\n",
    "- Do any of these fall out of the optimal range of 2-5%?"
   ]
  },
  {
   "cell_type": "markdown",
   "id": "598bb1bf",
   "metadata": {},
   "source": [
    "#### Manipulation Question 3:  Service level is another KPI when it comes to measuring call center efficiency. Service level is the percentage of calls answered within a specific number of seconds. In the case of your employer, their ideal time frame is 2 seconds. What is the percentage of calls answered within 2 seconds for each branch and the entire company?"
   ]
  },
  {
   "cell_type": "code",
   "execution_count": 14,
   "id": "2fc8f669",
   "metadata": {},
   "outputs": [],
   "source": [
    "# Manipulation Question 3 solution below:"
   ]
  },
  {
   "cell_type": "markdown",
   "id": "e3a4c9d9-4e11-4e1f-859a-d2c919f7d9ce",
   "metadata": {},
   "source": [
    "##### Record your answer below:\n",
    "Percentage of calls answered within 2 seconds, include # of calls:\n",
    "- North Branch = \n",
    "- South Branch = \n",
    "- Company Wide = "
   ]
  },
  {
   "cell_type": "markdown",
   "id": "7e19e705",
   "metadata": {},
   "source": [
    "#### Manipulation Question 4: For each branch and the entire company, what is the average speed of answer?"
   ]
  },
  {
   "cell_type": "code",
   "execution_count": 15,
   "id": "72a653ed",
   "metadata": {},
   "outputs": [],
   "source": [
    "# Manipulation Question 4 solution below:"
   ]
  },
  {
   "cell_type": "markdown",
   "id": "fb04c65b-442b-48e1-b22c-b2af8b835ffd",
   "metadata": {},
   "source": [
    "##### Record your answer by below:\n",
    "Average speed of answer (rounded to nearest hundredth):\n",
    "- North Branch in seconds = \n",
    "- South Branch in seconds = \n",
    "- Company Wide in seconds = "
   ]
  },
  {
   "cell_type": "markdown",
   "id": "d5f50a40",
   "metadata": {},
   "source": [
    "## Task 4: Visualization\n",
    "\n",
    "Create a visualization for each of the following questions. Some of the code to handle aggregating and storing data may be written for you. For each visualization, you choose the chart style that you feel suits the situation best. Make note of the chart style you chose and why. \n",
    "\n",
    "*NOTE Some questions you may decide to use more than one chart and or chart style."
   ]
  },
  {
   "cell_type": "markdown",
   "id": "66ccf83c",
   "metadata": {},
   "source": [
    "#### Visualization 1:  What is the average abandonment rate per queue?"
   ]
  },
  {
   "cell_type": "code",
   "execution_count": 1,
   "id": "c971d779",
   "metadata": {},
   "outputs": [
    {
     "ename": "NameError",
     "evalue": "name 'df' is not defined",
     "output_type": "error",
     "traceback": [
      "\u001b[0;31m---------------------------------------------------------------------------\u001b[0m",
      "\u001b[0;31mNameError\u001b[0m                                 Traceback (most recent call last)",
      "\u001b[0;32m/tmp/ipykernel_10106/1065358635.py\u001b[0m in \u001b[0;36m<module>\u001b[0;34m\u001b[0m\n\u001b[1;32m      5\u001b[0m \u001b[0mabandonment_rates\u001b[0m \u001b[0;34m=\u001b[0m \u001b[0;34m{\u001b[0m\u001b[0;34m}\u001b[0m\u001b[0;34m\u001b[0m\u001b[0;34m\u001b[0m\u001b[0m\n\u001b[1;32m      6\u001b[0m \u001b[0mqueues\u001b[0m \u001b[0;34m=\u001b[0m \u001b[0;34m[\u001b[0m\u001b[0;34m\"A\"\u001b[0m\u001b[0;34m,\u001b[0m \u001b[0;34m\"B\"\u001b[0m\u001b[0;34m,\u001b[0m \u001b[0;34m\"C\"\u001b[0m\u001b[0;34m,\u001b[0m \u001b[0;34m\"D\"\u001b[0m\u001b[0;34m]\u001b[0m\u001b[0;34m\u001b[0m\u001b[0;34m\u001b[0m\u001b[0m\n\u001b[0;32m----> 7\u001b[0;31m \u001b[0mqueue_dict\u001b[0m \u001b[0;34m=\u001b[0m \u001b[0mdf\u001b[0m\u001b[0;34m.\u001b[0m\u001b[0mgroupby\u001b[0m\u001b[0;34m(\u001b[0m\u001b[0;34m\"Queue\"\u001b[0m\u001b[0;34m)\u001b[0m\u001b[0;34m.\u001b[0m\u001b[0magg\u001b[0m\u001b[0;34m(\u001b[0m\u001b[0;34m\"sum\"\u001b[0m\u001b[0;34m)\u001b[0m\u001b[0;34m\u001b[0m\u001b[0;34m\u001b[0m\u001b[0m\n\u001b[0m\u001b[1;32m      8\u001b[0m \u001b[0;32mfor\u001b[0m \u001b[0mi\u001b[0m \u001b[0;32min\u001b[0m \u001b[0mrange\u001b[0m\u001b[0;34m(\u001b[0m\u001b[0;36m4\u001b[0m\u001b[0;34m)\u001b[0m\u001b[0;34m:\u001b[0m\u001b[0;34m\u001b[0m\u001b[0;34m\u001b[0m\u001b[0m\n\u001b[1;32m      9\u001b[0m     \u001b[0mabandonment_rates\u001b[0m\u001b[0;34m[\u001b[0m\u001b[0mqueues\u001b[0m\u001b[0;34m[\u001b[0m\u001b[0mi\u001b[0m\u001b[0;34m]\u001b[0m\u001b[0;34m]\u001b[0m \u001b[0;34m=\u001b[0m \u001b[0mqueue_dict\u001b[0m\u001b[0;34m[\u001b[0m\u001b[0;34m\"Abandoned\"\u001b[0m\u001b[0;34m]\u001b[0m\u001b[0;34m[\u001b[0m\u001b[0mi\u001b[0m\u001b[0;34m]\u001b[0m \u001b[0;34m/\u001b[0m \u001b[0mqueue_dict\u001b[0m\u001b[0;34m[\u001b[0m\u001b[0;34m\"Calls\"\u001b[0m\u001b[0;34m]\u001b[0m\u001b[0;34m[\u001b[0m\u001b[0mi\u001b[0m\u001b[0;34m]\u001b[0m\u001b[0;34m\u001b[0m\u001b[0;34m\u001b[0m\u001b[0m\n",
      "\u001b[0;31mNameError\u001b[0m: name 'df' is not defined"
     ]
    }
   ],
   "source": [
    "# Create visualization 1 here\n",
    "# Import any additional libraries needed with alias\n",
    "\n",
    "# The dictionary abandonment_rates has the data you need.\n",
    "abandonment_rates = {}\n",
    "queues = [\"A\", \"B\", \"C\", \"D\"]\n",
    "queue_dict = df.groupby(\"Queue\").agg(\"sum\")\n",
    "for i in range(4):\n",
    "    abandonment_rates[queues[i]] = queue_dict[\"Abandoned\"][i] / queue_dict[\"Calls\"][i] \n",
    "\n",
    "#Your code below:\n"
   ]
  },
  {
   "cell_type": "markdown",
   "id": "00a821e7-b296-4950-8889-dacf36ef37fb",
   "metadata": {},
   "source": [
    "##### Record your answer below:\n",
    "\n",
    "> Chart style you chose and why: "
   ]
  },
  {
   "cell_type": "markdown",
   "id": "4a9fc77f",
   "metadata": {},
   "source": [
    "#### Visualization 2: What is the service level percentage and average speed of answer for each rep in the North Branch?"
   ]
  },
  {
   "cell_type": "code",
   "execution_count": 2,
   "id": "61f65a7f",
   "metadata": {},
   "outputs": [
    {
     "ename": "NameError",
     "evalue": "name 'north' is not defined",
     "output_type": "error",
     "traceback": [
      "\u001b[0;31m---------------------------------------------------------------------------\u001b[0m",
      "\u001b[0;31mNameError\u001b[0m                                 Traceback (most recent call last)",
      "\u001b[0;32m/tmp/ipykernel_10106/3923764420.py\u001b[0m in \u001b[0;36m<module>\u001b[0;34m\u001b[0m\n\u001b[1;32m      2\u001b[0m \u001b[0;31m# north_plt contains the data you need for the average speed of answer of each rep\u001b[0m\u001b[0;34m\u001b[0m\u001b[0;34m\u001b[0m\u001b[0m\n\u001b[1;32m      3\u001b[0m \u001b[0;34m\u001b[0m\u001b[0m\n\u001b[0;32m----> 4\u001b[0;31m \u001b[0mnorth_plt\u001b[0m \u001b[0;34m=\u001b[0m \u001b[0mnorth\u001b[0m\u001b[0;34m.\u001b[0m\u001b[0mgroupby\u001b[0m\u001b[0;34m(\u001b[0m\u001b[0;34m\"Rep ID\"\u001b[0m\u001b[0;34m)\u001b[0m\u001b[0;34m[\u001b[0m\u001b[0;34m\"Incoming Wait Time\"\u001b[0m\u001b[0;34m]\u001b[0m\u001b[0;34m.\u001b[0m\u001b[0mmean\u001b[0m\u001b[0;34m(\u001b[0m\u001b[0;34m)\u001b[0m\u001b[0;34m.\u001b[0m\u001b[0mto_frame\u001b[0m\u001b[0;34m(\u001b[0m\u001b[0;34m)\u001b[0m\u001b[0;34m.\u001b[0m\u001b[0mreset_index\u001b[0m\u001b[0;34m(\u001b[0m\u001b[0;34m)\u001b[0m\u001b[0;34m\u001b[0m\u001b[0;34m\u001b[0m\u001b[0m\n\u001b[0m\u001b[1;32m      5\u001b[0m \u001b[0;34m\u001b[0m\u001b[0m\n\u001b[1;32m      6\u001b[0m \u001b[0;31m# Finding each Rep's Personal Service Level Percentage.  Basically, Calls within 2 secs / total calls\u001b[0m\u001b[0;34m\u001b[0m\u001b[0;34m\u001b[0m\u001b[0m\n",
      "\u001b[0;31mNameError\u001b[0m: name 'north' is not defined"
     ]
    }
   ],
   "source": [
    "# Create visualization 2 here\n",
    "# north_plt contains the data you need for the average speed of answer of each rep\n",
    "\n",
    "north_plt = north.groupby(\"Rep ID\")[\"Incoming Wait Time\"].mean().to_frame().reset_index()\n",
    "\n",
    "# Finding each Rep's Personal Service Level Percentage.  Basically, Calls within 2 secs / total calls\n",
    "\n",
    "# Table 1: Total Incoming calls less than 2 seconds grouped by Rep\n",
    "quick_calls = north[north[\"Incoming Wait Time\"] <= 2.0]\n",
    "quick_reps = quick_calls[[\"Rep ID\", \"Calls\"]]\n",
    "quick_stats = quick_reps.groupby([\"Rep ID\"]).sum()  # Final Table\n",
    "\n",
    "\n",
    "# Table 2: Total Incoming Calls Only grouped by Rep\n",
    "total_calls_in = north[north[\"Incoming or Outgoing\"] == \"Incoming\"]\n",
    "rep_calls = total_calls_in[[\"Rep ID\", \"Calls\"]]     \n",
    "total_stats = rep_calls.groupby([\"Rep ID\"]).sum() # Final Table  \n",
    "\n",
    "#  Table 3: Service Level Percentage created via merge\n",
    "service_level = pd.merge(quick_stats, total_stats, on=\"Rep ID\")\n",
    "\n",
    "# Create Percentage Column in Table 3\n",
    "service_level[\"Service Level %\"] = service_level[\"Calls_x\"]/service_level[\"Calls_y\"] * 100\n",
    "\n",
    "#Your Code Here:\n"
   ]
  },
  {
   "cell_type": "markdown",
   "id": "4d4cad4d-f9fb-4927-8a45-4b5cd17edd3a",
   "metadata": {},
   "source": [
    "##### Record your answer below:\n",
    "\n",
    "> Chart style you chose and why: "
   ]
  },
  {
   "cell_type": "markdown",
   "id": "f965e41a",
   "metadata": {},
   "source": [
    "#### Visualization 3: For each type of call purpose, how many calls are outgoing vs. incoming?"
   ]
  },
  {
   "cell_type": "code",
   "execution_count": 3,
   "id": "44096730",
   "metadata": {},
   "outputs": [
    {
     "ename": "NameError",
     "evalue": "name 'df' is not defined",
     "output_type": "error",
     "traceback": [
      "\u001b[0;31m---------------------------------------------------------------------------\u001b[0m",
      "\u001b[0;31mNameError\u001b[0m                                 Traceback (most recent call last)",
      "\u001b[0;32m/tmp/ipykernel_10106/3439313398.py\u001b[0m in \u001b[0;36m<module>\u001b[0;34m\u001b[0m\n\u001b[1;32m      2\u001b[0m \u001b[0;31m# The three dictionaries, complaints, sales_support, and product_support, have the information you need\u001b[0m\u001b[0;34m\u001b[0m\u001b[0;34m\u001b[0m\u001b[0m\n\u001b[1;32m      3\u001b[0m \u001b[0;34m\u001b[0m\u001b[0m\n\u001b[0;32m----> 4\u001b[0;31m \u001b[0mpurpose_group\u001b[0m \u001b[0;34m=\u001b[0m \u001b[0mdf\u001b[0m\u001b[0;34m.\u001b[0m\u001b[0mgroupby\u001b[0m\u001b[0;34m(\u001b[0m\u001b[0;34m\"Call Purpose\"\u001b[0m\u001b[0;34m)\u001b[0m\u001b[0;34m\u001b[0m\u001b[0;34m\u001b[0m\u001b[0m\n\u001b[0m\u001b[1;32m      5\u001b[0m \u001b[0mcall_purpose\u001b[0m \u001b[0;34m=\u001b[0m \u001b[0;34m[\u001b[0m\u001b[0;34m\"Complaint\"\u001b[0m\u001b[0;34m,\u001b[0m \u001b[0;34m\"Product Support\"\u001b[0m\u001b[0;34m,\u001b[0m \u001b[0;34m\"Sales Support\"\u001b[0m\u001b[0;34m]\u001b[0m\u001b[0;34m\u001b[0m\u001b[0;34m\u001b[0m\u001b[0m\n\u001b[1;32m      6\u001b[0m \u001b[0mpurpose_counts\u001b[0m \u001b[0;34m=\u001b[0m \u001b[0mpurpose_group\u001b[0m\u001b[0;34m[\u001b[0m\u001b[0;34m\"Incoming or Outgoing\"\u001b[0m\u001b[0;34m]\u001b[0m\u001b[0;34m.\u001b[0m\u001b[0mvalue_counts\u001b[0m\u001b[0;34m(\u001b[0m\u001b[0;34m)\u001b[0m\u001b[0;34m\u001b[0m\u001b[0;34m\u001b[0m\u001b[0m\n",
      "\u001b[0;31mNameError\u001b[0m: name 'df' is not defined"
     ]
    }
   ],
   "source": [
    "# Create visualization 3 here:\n",
    "# The three dictionaries, complaints, sales_support, and product_support, have the information you need\n",
    "\n",
    "purpose_group = df.groupby(\"Call Purpose\")\n",
    "call_purpose = [\"Complaint\", \"Product Support\", \"Sales Support\"]\n",
    "purpose_counts = purpose_group[\"Incoming or Outgoing\"].value_counts()\n",
    "print(purpose_counts)\n",
    "\n",
    "complaints = purpose_counts[\"Complaint\"].to_dict()\n",
    "sales_support = purpose_counts[\"Sales Support\"].to_dict()\n",
    "product_support = purpose_counts[\"Product Support\"].to_dict()\n",
    "\n",
    "#Your Code Here:\n"
   ]
  },
  {
   "cell_type": "markdown",
   "id": "9198bbe4-44ef-4e21-bd40-6ace8e9f7694",
   "metadata": {},
   "source": [
    "##### Record your answer below:\n",
    "\n",
    "> Chart style you chose and why: "
   ]
  },
  {
   "cell_type": "markdown",
   "id": "ea7ed568",
   "metadata": {},
   "source": [
    "## Task 5: Summarize Your Work\n",
    "\n",
    "With what you know now about the two call centers and the entire company, answer the following questions. Note that while this is subjective, you should include relevant data to back up your opinion.\n"
   ]
  },
  {
   "cell_type": "markdown",
   "id": "d2fc3d13",
   "metadata": {},
   "source": [
    "#### Summary Question 1:  Using KPIs such as average abandonment rate, service level and average speed of answer, in your opinion, which one of the two branches is operating more efficiently? Why?\n",
    "\n",
    "##### Record your answer below:\n",
    "> Your Answer: \n",
    "\n"
   ]
  },
  {
   "cell_type": "markdown",
   "id": "489f28d6",
   "metadata": {},
   "source": [
    "#### Summary Question 2: Based on the number of reps in each branch and how quickly the reps are working, in your opinion, which branch would benefit from the extra help?\n",
    "\n",
    "##### Record your answer below:\n",
    "> Your Answer: \n"
   ]
  },
  {
   "cell_type": "markdown",
   "id": "0b10a8c3",
   "metadata": {},
   "source": [
    "#### Summary Question 3: Now that you have explored the datasets, is there any data or information that you wish you had in this analysis?\n",
    "\n",
    "##### Record your answer below:\n",
    "> Your Answer: \n"
   ]
  },
  {
   "cell_type": "markdown",
   "id": "ce16f43d",
   "metadata": {},
   "source": [
    "## Bonus Mission\n",
    "Create a visualization that answers this question: For each call purpose, how many calls (incoming and outgoing) take place in each time block?\n",
    "##### Record your answer below:\n",
    "\n",
    "> Chart style you chose and why: "
   ]
  },
  {
   "cell_type": "code",
   "execution_count": 4,
   "id": "71b04f32",
   "metadata": {},
   "outputs": [
    {
     "ename": "NameError",
     "evalue": "name 'df' is not defined",
     "output_type": "error",
     "traceback": [
      "\u001b[0;31m---------------------------------------------------------------------------\u001b[0m",
      "\u001b[0;31mNameError\u001b[0m                                 Traceback (most recent call last)",
      "\u001b[0;32m/tmp/ipykernel_10106/3163764672.py\u001b[0m in \u001b[0;36m<module>\u001b[0;34m\u001b[0m\n\u001b[1;32m      1\u001b[0m \u001b[0;31m# Create your Bonus Mission visualization here!\u001b[0m\u001b[0;34m\u001b[0m\u001b[0;34m\u001b[0m\u001b[0m\n\u001b[0;32m----> 2\u001b[0;31m \u001b[0mcall_times\u001b[0m \u001b[0;34m=\u001b[0m \u001b[0mdf\u001b[0m\u001b[0;34m[\u001b[0m\u001b[0;34m[\u001b[0m\u001b[0;34m\"Time Block\"\u001b[0m\u001b[0;34m,\u001b[0m \u001b[0;34m\"Call Purpose\"\u001b[0m\u001b[0;34m,\u001b[0m \u001b[0;34m\"Incoming or Outgoing\"\u001b[0m\u001b[0;34m,\u001b[0m \u001b[0;34m\"Calls\"\u001b[0m\u001b[0;34m]\u001b[0m\u001b[0;34m]\u001b[0m\u001b[0;34m\u001b[0m\u001b[0;34m\u001b[0m\u001b[0m\n\u001b[0m\u001b[1;32m      3\u001b[0m \u001b[0;34m\u001b[0m\u001b[0m\n\u001b[1;32m      4\u001b[0m \u001b[0;31m# Use groupby to plot based on time blocks:\u001b[0m\u001b[0;34m\u001b[0m\u001b[0;34m\u001b[0m\u001b[0m\n\u001b[1;32m      5\u001b[0m \u001b[0;34m\u001b[0m\u001b[0m\n",
      "\u001b[0;31mNameError\u001b[0m: name 'df' is not defined"
     ]
    }
   ],
   "source": [
    "# Create your Bonus Mission visualization here!\n",
    "call_times = df[[\"Time Block\", \"Call Purpose\", \"Incoming or Outgoing\", \"Calls\"]]\n",
    "\n",
    "# Use groupby to plot based on time blocks:\n",
    "\n",
    "# Use groupby and get_group to select which call purpose to plot:"
   ]
  }
 ],
 "metadata": {
  "kernelspec": {
   "display_name": "Python 3 (ipykernel)",
   "language": "python",
   "name": "python3"
  },
  "language_info": {
   "codemirror_mode": {
    "name": "ipython",
    "version": 3
   },
   "file_extension": ".py",
   "mimetype": "text/x-python",
   "name": "python",
   "nbconvert_exporter": "python",
   "pygments_lexer": "ipython3",
   "version": "3.12.6"
  }
 },
 "nbformat": 4,
 "nbformat_minor": 5
}
